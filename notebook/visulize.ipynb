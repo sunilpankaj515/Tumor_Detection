{
 "cells": [
  {
   "cell_type": "code",
   "execution_count": 1,
   "metadata": {},
   "outputs": [],
   "source": [
    "import os\n",
    "from PIL import Image\n",
    "import matplotlib.pyplot as plt"
   ]
  },
  {
   "cell_type": "code",
   "execution_count": 6,
   "metadata": {},
   "outputs": [],
   "source": [
    "PRED_DIR = \"/home/ubuntu/project/Tumor_Detection/data/pred_mask_old\"\n",
    "VAL_DIR = \"/home/ubuntu/project/Tumor_Detection/data/Validation\"\n",
    "OUTPUT_DIR = \"/home/ubuntu/project/Tumor_Detection/visualizations\"\n",
    "\n",
    "\n",
    "os.makedirs(OUTPUT_DIR, exist_ok=True)\n",
    "\n",
    "# === Identify WSI IDs ===\n",
    "wsi_ids = sorted({f.split('_')[0] for f in os.listdir(PRED_DIR) if f.endswith('_pred.png')})[:6]\n",
    "\n",
    "# Column titles\n",
    "col_titles = [\"WSI\", \"GT Mask\", \"Pred Mask\", \"Overlay\"]\n",
    "\n",
    "# === Generate 1 plot per WSI ===\n",
    "for wsi_id in wsi_ids:\n",
    "    \n",
    "    # Paths to all required images\n",
    "    wsi_path = os.path.join(VAL_DIR, f\"{wsi_id}.png\")\n",
    "    gt_mask_path = os.path.join(VAL_DIR, f\"{wsi_id}_mask.png\")\n",
    "    pred_mask_path = os.path.join(PRED_DIR, f\"{wsi_id}_pred.png\")\n",
    "    overlay_path = os.path.join(PRED_DIR, f\"{wsi_id}_overlap.png\")\n",
    "\n",
    "    # Load all images\n",
    "    wsi_img = Image.open(wsi_path)\n",
    "    gt_mask_img = Image.open(gt_mask_path)\n",
    "    pred_mask_img = Image.open(pred_mask_path)\n",
    "    overlay_img = Image.open(overlay_path)\n",
    "\n",
    "    # Start figure\n",
    "    fig, axes = plt.subplots(1, 4, figsize=(28, 8))\n",
    "    #fig.suptitle(f\"Visualization for WSI: {wsi_id}\", fontsize=16)\n",
    "\n",
    "    # Show images\n",
    "    images = [wsi_img, gt_mask_img, pred_mask_img, overlay_img]\n",
    "    for i in range(4):\n",
    "        axes[i].imshow(images[i])\n",
    "        axes[i].set_title(col_titles[i],fontsize=16)\n",
    "        axes[i].axis(\"off\")\n",
    "\n",
    "    # Save figure\n",
    "    save_path = os.path.join(OUTPUT_DIR, f\"{wsi_id}_viz.png\")\n",
    "    plt.tight_layout()\n",
    "    plt.savefig(save_path,dpi=300, bbox_inches='tight')\n",
    "    plt.close()\n",
    "    "
   ]
  },
  {
   "cell_type": "code",
   "execution_count": null,
   "metadata": {},
   "outputs": [],
   "source": []
  }
 ],
 "metadata": {
  "kernelspec": {
   "display_name": "Python 3",
   "language": "python",
   "name": "python3"
  },
  "language_info": {
   "codemirror_mode": {
    "name": "ipython",
    "version": 3
   },
   "file_extension": ".py",
   "mimetype": "text/x-python",
   "name": "python",
   "nbconvert_exporter": "python",
   "pygments_lexer": "ipython3",
   "version": "3.12.10"
  }
 },
 "nbformat": 4,
 "nbformat_minor": 2
}
